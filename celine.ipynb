{
 "cells": [
  {
   "cell_type": "code",
   "execution_count": 3,
   "metadata": {},
   "outputs": [
    {
     "name": "stdout",
     "output_type": "stream",
     "text": [
      "Requirement already satisfied: emoji in c:\\users\\khauv\\anaconda3\\lib\\site-packages (1.7.0)\n",
      "Note: you may need to restart the kernel to use updated packages.\n"
     ]
    },
    {
     "name": "stderr",
     "output_type": "stream",
     "text": [
      "WARNING: There was an error checking the latest version of pip.\n",
      "[nltk_data] Downloading package punkt to\n",
      "[nltk_data]     C:\\Users\\khauv\\AppData\\Roaming\\nltk_data...\n",
      "[nltk_data]   Package punkt is already up-to-date!\n",
      "[nltk_data] Downloading package stopwords to\n",
      "[nltk_data]     C:\\Users\\khauv\\AppData\\Roaming\\nltk_data...\n",
      "[nltk_data]   Package stopwords is already up-to-date!\n",
      "[nltk_data] Downloading package wordnet to\n",
      "[nltk_data]     C:\\Users\\khauv\\AppData\\Roaming\\nltk_data...\n",
      "[nltk_data]   Package wordnet is already up-to-date!\n",
      "[nltk_data] Downloading package omw-1.4 to\n",
      "[nltk_data]     C:\\Users\\khauv\\AppData\\Roaming\\nltk_data...\n",
      "[nltk_data]   Package omw-1.4 is already up-to-date!\n"
     ]
    }
   ],
   "source": [
    "%pip install emoji\n",
    "import pandas as pd\n",
    "import numpy as np\n",
    "import re\n",
    "import nltk\n",
    "import random\n",
    "nltk.download('punkt')\n",
    "from sklearn.metrics.pairwise import cosine_similarity\n",
    "from sklearn.feature_extraction.text import TfidfVectorizer\n",
    "from nltk.corpus import stopwords  #stopwords\n",
    "from nltk.stem import WordNetLemmatizer  \n",
    "from nltk.tokenize import word_tokenize, sent_tokenize\n",
    "import emoji\n",
    "nltk.download('stopwords')\n",
    "nltk.download('wordnet')\n",
    "nltk.download('omw-1.4')\n",
    "stop_words=set(stopwords.words('english'))\n",
    "from gensim.utils import simple_preprocess\n",
    "\n",
    "# Doc2Vec model\n",
    "import gensim\n",
    "from gensim.parsing.preprocessing import preprocess_documents\n",
    "from gensim.models.doc2vec import Doc2Vec, TaggedDocument\n",
    "from collections import defaultdict\n"
   ]
  },
  {
   "cell_type": "code",
   "execution_count": 6,
   "metadata": {},
   "outputs": [
    {
     "data": {
      "text/plain": [
       "<bound method NDFrame.head of       Unnamed: 0                                           responce  \\\n",
       "0            603  @115904 We'll be sure to pass along your kind ...   \n",
       "1            605  @115904 Our apologies for the delay in respond...   \n",
       "2            608  @115905 Aww, that's definitely a future pilot ...   \n",
       "3            612          @115906 We're sorry for your frustration.   \n",
       "4            618  @115909 We're glad you got to kick back and en...   \n",
       "...          ...                                                ...   \n",
       "1847      201947  @172376 We know staying connected is important...   \n",
       "1848      203418  @172677 We've capped our fares for nonstop fli...   \n",
       "1849      203504  @143005 Please give our Baggage team a call at...   \n",
       "1850      203506  @143005 Our apologies for the hold. Our Centra...   \n",
       "1851      203633  @172730 We're providing waivers for St Croix, ...   \n",
       "\n",
       "                                               question  \n",
       "0     @AmericanAir Erica on the lax team is amazing ...  \n",
       "1     @AmericanAir Could you have someone on your la...  \n",
       "2     Ben Tennyson and an American Airlines pilot. 🎃...  \n",
       "3     @AmericanAir Right, but I earned those. I also...  \n",
       "4     Thank you, @AmericanAir for playing #ThisIsUs ...  \n",
       "...                                                 ...  \n",
       "1847  @AmericanAir and @172 have nailed in the trans...  \n",
       "1848  @AmericanAir Average price of ticket out: $250...  \n",
       "1849  @AmericanAir Really annoyed been over a month ...  \n",
       "1850  @AmericanAir terrible service wait ages trying...  \n",
       "1851  @AmericanAir charges their patrons to change t...  \n",
       "\n",
       "[1852 rows x 3 columns]>"
      ]
     },
     "execution_count": 6,
     "metadata": {},
     "output_type": "execute_result"
    }
   ],
   "source": [
    "df = pd.read_csv('question_responce.csv')\n",
    "df.head\n"
   ]
  },
  {
   "cell_type": "markdown",
   "metadata": {},
   "source": [
    "# Preprocessing"
   ]
  },
  {
   "cell_type": "code",
   "execution_count": 7,
   "metadata": {},
   "outputs": [
    {
     "name": "stdout",
     "output_type": "stream",
     "text": [
      "0                     [erica, team, amazing, give, raise]\n",
      "1       [could, someone, team, available, guide, gate,...\n",
      "2       [tennyson, american, airline, pilot, trunkortr...\n",
      "3       [right, earned, also, pas, spouse, need, chang...\n",
      "4       [thank, playing, thisisus, great, flight, atte...\n",
      "                              ...                        \n",
      "1847    [nailed, transatlantic, wifi, service, able, j...\n",
      "1848                             [average, price, ticket]\n",
      "1849    [really, annoyed, month, since, damaged, claim...\n",
      "1850    [terrible, service, wait, age, trying, call, n...\n",
      "1851    [charge, patron, change, flight, every, time, ...\n",
      "Name: question, Length: 1852, dtype: object\n"
     ]
    }
   ],
   "source": [
    "def give_emoji_free_text(text):\n",
    "    return emoji.get_emoji_regexp().sub(r'', text)\n",
    "    \n",
    "def preprocess(string):\n",
    "    emoticon_string = r\"\"\"\n",
    "    (?:\n",
    "      [<>]?\n",
    "      [:;=8]                     # eyes\n",
    "      [\\-o\\*\\']?                 # optional nose\n",
    "      [\\)\\]\\(\\[dDpP/\\:\\}\\{@\\|\\\\] # mouth      \n",
    "      |\n",
    "      [\\)\\]\\(\\[dDpP/\\:\\}\\{@\\|\\\\] # mouth\n",
    "      [\\-o\\*\\']?                 # optional nose\n",
    "      [:;=8]                     # eyes\n",
    "      [<>]?\n",
    "    )\"\"\"\n",
    "    string = re.sub(r'\\s+', ' ', string)\n",
    "    string = re.sub(r'\\[[0-9]*\\]', '', string)\n",
    "    string = re.sub(r'(@([A-Za-z0-9`~!@#$%^&*()_|+\\-=?;:\\'\",.<>\\{\\}\\[\\]\\\\\\/]{2,32}))', '', string) # remove tags\n",
    "    string = re.sub(r'\\d+', '', string) # remove numbers\n",
    "    string = re.sub(r'\\#+', '', string) # remove hashtags\n",
    "    string = re.sub(r'http\\S+', '', string) # remove urls\n",
    "    string = re.sub(emoticon_string,'', string)# remove emojis\n",
    "    string = simple_preprocess(string,deacc=True) #tokenizing, lowercasing, removing accents\n",
    "\n",
    "    result = []\n",
    "    lemma_function = WordNetLemmatizer()\n",
    "    lemma = [lemma_function.lemmatize(w) for w in string if w not in stop_words and len(w) > 3]\n",
    "    return lemma\n",
    "\n",
    "text_data = [] \n",
    "text_data = df['question'].apply(preprocess) #preprocessing\n",
    "\n",
    "print(text_data)"
   ]
  },
  {
   "cell_type": "markdown",
   "metadata": {},
   "source": [
    "# Intents / Topic Modelling"
   ]
  },
  {
   "cell_type": "code",
   "execution_count": 55,
   "metadata": {},
   "outputs": [],
   "source": [
    "from pprint import pprint# Gensim\n",
    "import gensim\n",
    "import gensim.corpora as corpora\n",
    "from gensim.utils import simple_preprocess\n",
    "from gensim.models import CoherenceModel# spaCy for preprocessing\n",
    "import spacy# Plotting tools\n"
   ]
  },
  {
   "cell_type": "code",
   "execution_count": 8,
   "metadata": {},
   "outputs": [],
   "source": [
    "from gensim import corpora\n",
    "dictionary = corpora.Dictionary(text_data)\n",
    "corpus = [dictionary.doc2bow(text) for text in text_data]\n",
    "\n",
    "\n",
    "import pickle\n",
    "pickle.dump(corpus, open('corpus.pkl', 'wb'))\n",
    "dictionary.save('dictionary.gensim')"
   ]
  },
  {
   "cell_type": "markdown",
   "metadata": {},
   "source": [
    "### LdaModel"
   ]
  },
  {
   "cell_type": "code",
   "execution_count": 57,
   "metadata": {},
   "outputs": [
    {
     "name": "stdout",
     "output_type": "stream",
     "text": [
      "(24, '0.035*\"seat\" + 0.023*\"thanks\" + 0.023*\"year\" + 0.012*\"sorry\"')\n",
      "(65, '0.025*\"time\" + 0.021*\"flight\" + 0.012*\"issue\" + 0.012*\"even\"')\n",
      "(81, '0.018*\"flight\" + 0.012*\"excited\" + 0.012*\"airport\" + 0.012*\"would\"')\n",
      "(1, '0.020*\"flight\" + 0.017*\"back\" + 0.015*\"gate\" + 0.015*\"delay\"')\n",
      "(99, '0.024*\"flight\" + 0.018*\"time\" + 0.016*\"thanksgiving\" + 0.016*\"gate\"')\n",
      "(54, '0.044*\"delayed\" + 0.033*\"flight\" + 0.033*\"people\" + 0.022*\"plane\"')\n",
      "(61, '0.025*\"take\" + 0.019*\"time\" + 0.019*\"flight\" + 0.013*\"book\"')\n",
      "(77, '0.037*\"flight\" + 0.020*\"seat\" + 0.012*\"connection\" + 0.012*\"take\"')\n",
      "(79, '0.034*\"flight\" + 0.027*\"wifi\" + 0.020*\"seat\" + 0.020*\"know\"')\n",
      "(30, '0.032*\"flight\" + 0.021*\"please\" + 0.016*\"phone\" + 0.016*\"seat\"')\n",
      "(28, '0.038*\"flagship\" + 0.019*\"congratulation\" + 0.019*\"first\" + 0.019*\"admiralsclub\"')\n",
      "(19, '0.034*\"flight\" + 0.019*\"together\" + 0.019*\"gate\" + 0.018*\"plane\"')\n",
      "(58, '0.048*\"flight\" + 0.025*\"know\" + 0.019*\"information\" + 0.019*\"give\"')\n",
      "(43, '0.056*\"flight\" + 0.025*\"time\" + 0.014*\"first\" + 0.012*\"hour\"')\n",
      "(69, '0.033*\"flight\" + 0.018*\"make\" + 0.018*\"delay\" + 0.013*\"upgrade\"')\n",
      "(56, '0.041*\"flight\" + 0.018*\"plane\" + 0.016*\"time\" + 0.016*\"flying\"')\n",
      "(2, '0.057*\"flight\" + 0.016*\"attendant\" + 0.011*\"comment\" + 0.011*\"update\"')\n",
      "(4, '0.024*\"charged\" + 0.024*\"seat\" + 0.016*\"flight\" + 0.016*\"paid\"')\n",
      "(39, '0.021*\"like\" + 0.015*\"family\" + 0.014*\"beautiful\" + 0.014*\"avoid\"')\n",
      "(86, '0.017*\"limited\" + 0.017*\"para\" + 0.017*\"check\" + 0.017*\"hacer\"')\n"
     ]
    }
   ],
   "source": [
    "import gensim\n",
    "NUM_TOPICS = 100\n",
    "ldamodel = gensim.models.ldamodel.LdaModel(corpus, num_topics = NUM_TOPICS, id2word=dictionary)\n",
    "ldamodel.save('model5.gensim')\n",
    "topics = ldamodel.print_topics(num_words=4)\n",
    "for topic in topics:\n",
    "    print(topic)"
   ]
  },
  {
   "cell_type": "markdown",
   "metadata": {},
   "source": [
    "La niveau de cohérence est assez pas. Passons au LdaMallet qui doit donner de meilleurs résultats."
   ]
  },
  {
   "cell_type": "markdown",
   "metadata": {},
   "source": [
    "### LdaMallet"
   ]
  },
  {
   "cell_type": "code",
   "execution_count": 14,
   "metadata": {},
   "outputs": [
    {
     "name": "stdout",
     "output_type": "stream",
     "text": [
      "[(14, [('trip', 0.07060755336617405), ('good', 0.06896551724137931), ('year', 0.06239737274220033), ('work', 0.04597701149425287), ('flying', 0.042692939244663386), ('return', 0.027914614121510674), ('people', 0.022988505747126436), ('awful', 0.019704433497536946), ('card', 0.019704433497536946), ('paying', 0.0180623973727422)]), (3, [('great', 0.11248073959938366), ('flying', 0.06933744221879815), ('thanksgiving', 0.05546995377503852), ('happy', 0.05084745762711865), ('home', 0.04930662557781202), ('guy', 0.03697996918335902), ('hope', 0.032357473035439135), ('dallas', 0.020030816640986132), ('friend', 0.01848998459167951), ('screen', 0.012326656394453005)]), (15, [('travel', 0.0904836193447738), ('issue', 0.07644305772230889), ('love', 0.046801872074883), ('holiday', 0.046801872074883), ('family', 0.0327613104524181), ('maintenance', 0.0234009360374415), ('food', 0.0218408736349454), ('real', 0.0202808112324493), ('awesome', 0.0202808112324493), ('employee', 0.0202808112324493)]), (0, [('ticket', 0.10104011887072809), ('refund', 0.05646359583952452), ('booked', 0.05349182763744428), ('mile', 0.04457652303120357), ('problem', 0.04309063893016345), ('book', 0.04011887072808321), ('option', 0.03566121842496285), ('cancel', 0.03417533432392273), ('charge', 0.03268945022288262), ('understand', 0.02674591381872214)]), (17, [('gate', 0.19242424242424241), ('check', 0.10606060606060606), ('agent', 0.08333333333333333), ('carry', 0.045454545454545456), ('working', 0.024242424242424242), ('overhead', 0.024242424242424242), ('tonight', 0.021212121212121213), ('people', 0.01818181818181818), ('multiple', 0.012121212121212121), ('idea', 0.012121212121212121)]), (19, [('upgrade', 0.08307210031347963), ('class', 0.07210031347962383), ('making', 0.032915360501567396), ('platinum', 0.029780564263322883), ('long', 0.029780564263322883), ('charged', 0.029780564263322883), ('business', 0.02821316614420063), ('economy', 0.02664576802507837), ('reservation', 0.023510971786833857), ('checking', 0.02037617554858934)]), (16, [('flight', 0.3309143686502177), ('attendant', 0.040638606676342524), ('christmas', 0.023222060957910014), ('affected', 0.020319303338171262), ('unacceptable', 0.018867924528301886), ('glitch', 0.01741654571843251), ('part', 0.01451378809869376), ('check', 0.01451378809869376), ('experience', 0.013062409288824383), ('aircraft', 0.013062409288824383)]), (13, [('flight', 0.18330605564648117), ('nice', 0.05073649754500818), ('airport', 0.044189852700491), ('day', 0.03927986906710311), ('missing', 0.02618657937806874), ('today', 0.02618657937806874), ('open', 0.024549918166939442), ('found', 0.02127659574468085), ('number', 0.02127659574468085), ('medium', 0.01800327332242226)]), (7, [('airline', 0.11237785016286644), ('back', 0.10749185667752444), ('american', 0.0781758957654723), ('lounge', 0.035830618892508145), ('guess', 0.029315960912052116), ('cancellation', 0.02280130293159609), ('point', 0.021172638436482084), ('international', 0.021172638436482084), ('worst', 0.021172638436482084), ('money', 0.019543973941368076)]), (2, [('time', 0.20552147239263804), ('passenger', 0.049079754601226995), ('response', 0.0352760736196319), ('flight', 0.03067484662576687), ('month', 0.029141104294478526), ('helpful', 0.024539877300613498), ('called', 0.024539877300613498), ('room', 0.023006134969325152), ('terrible', 0.02147239263803681), ('week', 0.02147239263803681)])]\n"
     ]
    },
    {
     "ename": "NameError",
     "evalue": "name 'CoherenceModel' is not defined",
     "output_type": "error",
     "traceback": [
      "\u001b[1;31m---------------------------------------------------------------------------\u001b[0m",
      "\u001b[1;31mNameError\u001b[0m                                 Traceback (most recent call last)",
      "\u001b[1;32m<ipython-input-14-c76bcb1a4761>\u001b[0m in \u001b[0;36m<module>\u001b[1;34m\u001b[0m\n\u001b[0;32m     10\u001b[0m \u001b[1;33m\u001b[0m\u001b[0m\n\u001b[0;32m     11\u001b[0m \u001b[1;31m# Compute Coherence Score\u001b[0m\u001b[1;33m\u001b[0m\u001b[1;33m\u001b[0m\u001b[1;33m\u001b[0m\u001b[0m\n\u001b[1;32m---> 12\u001b[1;33m \u001b[0mcoherence_model_ldamallet\u001b[0m \u001b[1;33m=\u001b[0m \u001b[0mCoherenceModel\u001b[0m\u001b[1;33m(\u001b[0m\u001b[0mmodel\u001b[0m\u001b[1;33m=\u001b[0m\u001b[0mldamallet\u001b[0m\u001b[1;33m,\u001b[0m \u001b[0mtexts\u001b[0m\u001b[1;33m=\u001b[0m\u001b[0mtext_data\u001b[0m\u001b[1;33m,\u001b[0m \u001b[0mdictionary\u001b[0m\u001b[1;33m=\u001b[0m\u001b[0mdictionary\u001b[0m\u001b[1;33m,\u001b[0m \u001b[0mcoherence\u001b[0m\u001b[1;33m=\u001b[0m\u001b[1;34m'c_v'\u001b[0m\u001b[1;33m)\u001b[0m\u001b[1;33m\u001b[0m\u001b[1;33m\u001b[0m\u001b[0m\n\u001b[0m\u001b[0;32m     13\u001b[0m \u001b[0mcoherence_ldamallet\u001b[0m \u001b[1;33m=\u001b[0m \u001b[0mcoherence_model_ldamallet\u001b[0m\u001b[1;33m.\u001b[0m\u001b[0mget_coherence\u001b[0m\u001b[1;33m(\u001b[0m\u001b[1;33m)\u001b[0m\u001b[1;33m\u001b[0m\u001b[1;33m\u001b[0m\u001b[0m\n\u001b[0;32m     14\u001b[0m \u001b[0mprint\u001b[0m\u001b[1;33m(\u001b[0m\u001b[1;34m'\\nCoherence Score: '\u001b[0m\u001b[1;33m,\u001b[0m \u001b[0mcoherence_ldamallet\u001b[0m\u001b[1;33m)\u001b[0m\u001b[1;33m\u001b[0m\u001b[1;33m\u001b[0m\u001b[0m\n",
      "\u001b[1;31mNameError\u001b[0m: name 'CoherenceModel' is not defined"
     ]
    }
   ],
   "source": [
    "import os\n",
    "from gensim.models.wrappers import LdaMallet\n",
    "\n",
    "os.environ['MALLET_HOME'] = 'C:/Users/khauv/Documents/Github/Rule-based-chatbot/mallet-2.0.8/'\n",
    "mallet_path = 'C:/Users/khauv/Documents/Github/Rule-based-chatbot/mallet-2.0.8/bin/mallet' # update this path\n",
    "ldamallet = gensim.models.wrappers.LdaMallet(mallet_path, corpus=corpus, num_topics=20, id2word=dictionary)\n",
    "\n",
    "# Show Topics\n",
    "print(ldamallet.show_topics(formatted=False))\n"
   ]
  },
  {
   "cell_type": "markdown",
   "metadata": {},
   "source": [
    "- Fonction pour evaluer le niveau de cohérence du model"
   ]
  },
  {
   "cell_type": "code",
   "execution_count": 15,
   "metadata": {},
   "outputs": [
    {
     "name": "stdout",
     "output_type": "stream",
     "text": [
      "\n",
      "Coherence Score:  0.5714557358509211\n"
     ]
    }
   ],
   "source": [
    "from gensim.models.coherencemodel import CoherenceModel\n",
    "\n",
    "# Compute Coherence Score\n",
    "coherence_model_ldamallet = CoherenceModel(model=ldamallet, texts=text_data, dictionary=dictionary, coherence='c_v')\n",
    "coherence_ldamallet = coherence_model_ldamallet.get_coherence()\n",
    "print('\\nCoherence Score: ', coherence_ldamallet)"
   ]
  },
  {
   "cell_type": "markdown",
   "metadata": {},
   "source": [
    "- Fonction pour évaluer le niveau de cohérence du model dans un interval donnée de nombres de topics"
   ]
  },
  {
   "cell_type": "code",
   "execution_count": 16,
   "metadata": {},
   "outputs": [],
   "source": [
    "def compute_coherence_values(dictionary, corpus, texts, limit, start=2, step=3):\n",
    "    \"\"\"\n",
    "    Compute c_v coherence for various number of topics\n",
    "\n",
    "    Parameters:\n",
    "    ----------\n",
    "    dictionary : Gensim dictionary\n",
    "    corpus : Gensim corpus\n",
    "    texts : List of input texts\n",
    "    limit : Max num of topics\n",
    "\n",
    "    Returns:\n",
    "    -------\n",
    "    model_list : List of LDA topic models\n",
    "    coherence_values : Coherence values corresponding to the LDA model with respective number of topics\n",
    "    \"\"\"\n",
    "    coherence_values = []\n",
    "    model_list = []\n",
    "    for num_topics in range(start, limit, step):\n",
    "        model = gensim.models.wrappers.LdaMallet(mallet_path, corpus=corpus, num_topics=num_topics, id2word=dictionary)\n",
    "        model_list.append(model)\n",
    "        coherencemodel = CoherenceModel(model=model, texts=texts, dictionary=dictionary, coherence='c_v')\n",
    "        coherence_values.append(coherencemodel.get_coherence())\n",
    "\n",
    "    return model_list, coherence_values"
   ]
  },
  {
   "cell_type": "markdown",
   "metadata": {},
   "source": [
    "- Graphique entre la cohérence et le nombre de topics"
   ]
  },
  {
   "cell_type": "code",
   "execution_count": 22,
   "metadata": {},
   "outputs": [
    {
     "data": {
      "image/png": "[encoded data removed]",
      "text/plain": [
       "<Figure size 432x288 with 1 Axes>"
      ]
     },
     "metadata": {
      "needs_background": "light"
     },
     "output_type": "display_data"
    }
   ],
   "source": [
    "model_list, coherence_values = compute_coherence_values(dictionary=dictionary, corpus=corpus, texts=text_data, start=80, limit=400, step=40)\n",
    "import matplotlib.pyplot as plt\n",
    "# Show graph\n",
    "limit=400; start=80; step=40;\n",
    "x = range(start, limit, step)\n",
    "plt.plot(x, coherence_values)\n",
    "plt.xlabel(\"Num Topics\")\n",
    "plt.ylabel(\"Coherence score\")\n",
    "plt.legend((\"coherence_values\"), loc='best')\n",
    "plt.show()"
   ]
  },
  {
   "cell_type": "markdown",
   "metadata": {},
   "source": [
    "On choisit le nombre de topics là où la courbe commence à stabiliser, ici 240."
   ]
  },
  {
   "cell_type": "markdown",
   "metadata": {},
   "source": [
    "- Les 240 topics du model que l'on a choisit"
   ]
  },
  {
   "cell_type": "code",
   "execution_count": 23,
   "metadata": {},
   "outputs": [
    {
     "name": "stdout",
     "output_type": "stream",
     "text": [
      "[(76, '0.154*\"gate\" + 0.077*\"allowing\" + 0.077*\"missed\" + 0.077*\"boarding\" + 0.058*\"send\" + 0.058*\"load\" + 0.038*\"actual\" + 0.038*\"promised\" + 0.038*\"service\" + 0.038*\"left\"'), (91, '0.222*\"luggage\" + 0.181*\"baggage\" + 0.069*\"delta\" + 0.056*\"hard\" + 0.056*\"day\" + 0.042*\"smooth\" + 0.042*\"line\" + 0.028*\"traveling\" + 0.014*\"absolute\" + 0.014*\"band\"'), (170, '0.288*\"flight\" + 0.091*\"make\" + 0.045*\"power\" + 0.045*\"long\" + 0.045*\"traveling\" + 0.030*\"esta\" + 0.030*\"crap\" + 0.015*\"harbor\" + 0.015*\"manage\" + 0.015*\"held\"'), (139, '0.360*\"airline\" + 0.348*\"american\" + 0.045*\"favorite\" + 0.022*\"offering\" + 0.022*\"extra\" + 0.022*\"detail\" + 0.011*\"offical\" + 0.011*\"aspect\" + 0.011*\"jamaica\" + 0.011*\"merger\"'), (58, '0.200*\"voucher\" + 0.077*\"tweet\" + 0.046*\"paying\" + 0.046*\"info\" + 0.031*\"fargo\" + 0.031*\"feel\" + 0.031*\"catering\" + 0.015*\"europe\" + 0.015*\"halfway\" + 0.015*\"circumstance\"'), (95, '0.267*\"family\" + 0.147*\"response\" + 0.133*\"issue\" + 0.027*\"advance\" + 0.027*\"faster\" + 0.013*\"reaching\" + 0.013*\"pocketbook\" + 0.013*\"direction\" + 0.013*\"oneworld\" + 0.013*\"landing\"'), (32, '0.430*\"delay\" + 0.243*\"hour\" + 0.056*\"mechanical\" + 0.037*\"water\" + 0.019*\"girlfriend\" + 0.019*\"body\" + 0.009*\"separating\" + 0.009*\"deemed\" + 0.009*\"fair\" + 0.009*\"trusted\"'), (15, '0.250*\"check\" + 0.206*\"charge\" + 0.074*\"full\" + 0.059*\"yesterday\" + 0.059*\"return\" + 0.029*\"happened\" + 0.029*\"hold\" + 0.015*\"compelled\" + 0.015*\"fell\" + 0.015*\"drag\"'), (2, '0.102*\"york\" + 0.102*\"money\" + 0.102*\"person\" + 0.082*\"travel\" + 0.061*\"rule\" + 0.041*\"shame\" + 0.041*\"guitar\" + 0.020*\"proud\" + 0.020*\"appetizer\" + 0.020*\"star\"'), (129, '0.309*\"time\" + 0.073*\"captain\" + 0.055*\"info\" + 0.055*\"turned\" + 0.036*\"claim\" + 0.036*\"meal\" + 0.036*\"clothes\" + 0.018*\"btvaa\" + 0.018*\"chrome\" + 0.018*\"deeply\"'), (49, '0.346*\"boarding\" + 0.128*\"pas\" + 0.051*\"order\" + 0.051*\"view\" + 0.026*\"mobile\" + 0.026*\"meal\" + 0.013*\"informed\" + 0.013*\"earth\" + 0.013*\"leaving\" + 0.013*\"transcon\"'), (44, '0.385*\"back\" + 0.077*\"cancelled\" + 0.062*\"read\" + 0.031*\"airline\" + 0.015*\"count\" + 0.015*\"counter\" + 0.015*\"safe\" + 0.015*\"witnessing\" + 0.015*\"leadtime\" + 0.015*\"lost\"'), (149, '0.163*\"find\" + 0.093*\"day\" + 0.047*\"photo\" + 0.047*\"wanna\" + 0.023*\"spend\" + 0.023*\"minor\" + 0.023*\"talked\" + 0.023*\"disappointing\" + 0.023*\"airworthy\" + 0.023*\"cooler\"'), (168, '0.239*\"amazing\" + 0.070*\"helpful\" + 0.056*\"mother\" + 0.042*\"sweet\" + 0.042*\"reply\" + 0.042*\"told\" + 0.028*\"communication\" + 0.028*\"tomorrow\" + 0.028*\"game\" + 0.028*\"person\"'), (192, '0.247*\"happy\" + 0.208*\"thanksgiving\" + 0.039*\"morning\" + 0.026*\"wait\" + 0.026*\"checkin\" + 0.026*\"part\" + 0.013*\"incompetence\" + 0.013*\"crossing\" + 0.013*\"inform\" + 0.013*\"important\"'), (124, '0.433*\"gate\" + 0.367*\"agent\" + 0.025*\"employee\" + 0.025*\"job\" + 0.017*\"unpleasant\" + 0.008*\"mobile\" + 0.008*\"overly\" + 0.008*\"payment\" + 0.008*\"tengo\" + 0.008*\"bring\"'), (1, '0.279*\"club\" + 0.147*\"admiral\" + 0.074*\"worried\" + 0.044*\"back\" + 0.044*\"terminal\" + 0.044*\"online\" + 0.015*\"badux\" + 0.015*\"bag\" + 0.015*\"space\" + 0.015*\"desire\"'), (50, '0.204*\"time\" + 0.093*\"leaving\" + 0.074*\"guy\" + 0.056*\"wifi\" + 0.056*\"feeling\" + 0.037*\"passenger\" + 0.037*\"bathroom\" + 0.019*\"shipping\" + 0.019*\"esposa\" + 0.019*\"insane\"'), (142, '0.206*\"trip\" + 0.176*\"guy\" + 0.088*\"stuck\" + 0.059*\"personal\" + 0.044*\"idea\" + 0.029*\"smile\" + 0.029*\"charlotte\" + 0.015*\"apologize\" + 0.015*\"menjivar\" + 0.015*\"compulsively\"'), (112, '0.414*\"flight\" + 0.029*\"playing\" + 0.029*\"helpful\" + 0.029*\"earlier\" + 0.029*\"stop\" + 0.029*\"guy\" + 0.014*\"automatically\" + 0.014*\"pokeland\" + 0.014*\"contraband\" + 0.014*\"listened\"')]\n"
     ]
    }
   ],
   "source": [
    "# Select the model and print the topics\n",
    "optimal_model = model_list[3]\n",
    "model_topics = optimal_model.show_topics(formatted=False)\n",
    "print(optimal_model.print_topics(num_words=10))"
   ]
  },
  {
   "cell_type": "markdown",
   "metadata": {},
   "source": [
    "- Attribution des topics pour tous les messages du dataset dans un même dataframe"
   ]
  },
  {
   "cell_type": "code",
   "execution_count": 24,
   "metadata": {},
   "outputs": [
    {
     "data": {
      "text/html": [
       "<div>\n",
       "<style scoped>\n",
       "    .dataframe tbody tr th:only-of-type {\n",
       "        vertical-align: middle;\n",
       "    }\n",
       "\n",
       "    .dataframe tbody tr th {\n",
       "        vertical-align: top;\n",
       "    }\n",
       "\n",
       "    .dataframe thead th {\n",
       "        text-align: right;\n",
       "    }\n",
       "</style>\n",
       "<table border=\"1\" class=\"dataframe\">\n",
       "  <thead>\n",
       "    <tr style=\"text-align: right;\">\n",
       "      <th></th>\n",
       "      <th>Document_No</th>\n",
       "      <th>Dominant_Topic</th>\n",
       "      <th>Topic_Perc_Contrib</th>\n",
       "      <th>Keywords</th>\n",
       "      <th>Text</th>\n",
       "    </tr>\n",
       "  </thead>\n",
       "  <tbody>\n",
       "    <tr>\n",
       "      <th>0</th>\n",
       "      <td>0</td>\n",
       "      <td>168.0</td>\n",
       "      <td>0.0207</td>\n",
       "      <td>amazing, helpful, mother, sweet, reply, told, ...</td>\n",
       "      <td>@AmericanAir Erica on the lax team is amazing ...</td>\n",
       "    </tr>\n",
       "    <tr>\n",
       "      <th>1</th>\n",
       "      <td>1</td>\n",
       "      <td>7.0</td>\n",
       "      <td>0.0149</td>\n",
       "      <td>giving, team, policy, glitch, completely, love...</td>\n",
       "      <td>@AmericanAir Could you have someone on your la...</td>\n",
       "    </tr>\n",
       "    <tr>\n",
       "      <th>2</th>\n",
       "      <td>2</td>\n",
       "      <td>139.0</td>\n",
       "      <td>0.0330</td>\n",
       "      <td>airline, american, favorite, offering, extra, ...</td>\n",
       "      <td>Ben Tennyson and an American Airlines pilot. 🎃...</td>\n",
       "    </tr>\n",
       "    <tr>\n",
       "      <th>3</th>\n",
       "      <td>3</td>\n",
       "      <td>57.0</td>\n",
       "      <td>0.0187</td>\n",
       "      <td>attendant, flyer, nice, frequent, program, lie...</td>\n",
       "      <td>@AmericanAir Right, but I earned those. I also...</td>\n",
       "    </tr>\n",
       "    <tr>\n",
       "      <th>4</th>\n",
       "      <td>4</td>\n",
       "      <td>112.0</td>\n",
       "      <td>0.0177</td>\n",
       "      <td>flight, playing, helpful, earlier, stop, guy, ...</td>\n",
       "      <td>Thank you, @AmericanAir for playing #ThisIsUs ...</td>\n",
       "    </tr>\n",
       "    <tr>\n",
       "      <th>5</th>\n",
       "      <td>5</td>\n",
       "      <td>179.0</td>\n",
       "      <td>0.0438</td>\n",
       "      <td>wifi, flew, flight, inflight, working, connect...</td>\n",
       "      <td>@AmericanAir's wifi makes Amtrak's wifi look p...</td>\n",
       "    </tr>\n",
       "    <tr>\n",
       "      <th>6</th>\n",
       "      <td>6</td>\n",
       "      <td>1.0</td>\n",
       "      <td>0.0551</td>\n",
       "      <td>club, admiral, worried, back, terminal, online...</td>\n",
       "      <td>Wonderful club! @americanair (@ American Airli...</td>\n",
       "    </tr>\n",
       "    <tr>\n",
       "      <th>7</th>\n",
       "      <td>7</td>\n",
       "      <td>0.0</td>\n",
       "      <td>0.0141</td>\n",
       "      <td>cancel, miami, counter, member, hour, expect, ...</td>\n",
       "      <td>@AmericanAir already did...changed browsers, d...</td>\n",
       "    </tr>\n",
       "    <tr>\n",
       "      <th>8</th>\n",
       "      <td>8</td>\n",
       "      <td>38.0</td>\n",
       "      <td>0.0149</td>\n",
       "      <td>extra, hold, specific, home, handled, drink, r...</td>\n",
       "      <td>@AmericanAir ........still....on....hold.....t...</td>\n",
       "    </tr>\n",
       "    <tr>\n",
       "      <th>9</th>\n",
       "      <td>9</td>\n",
       "      <td>71.0</td>\n",
       "      <td>0.0382</td>\n",
       "      <td>told, passenger, additional, reschedule, limit...</td>\n",
       "      <td>@AmericanAir well now i am told the ticket cos...</td>\n",
       "    </tr>\n",
       "  </tbody>\n",
       "</table>\n",
       "</div>"
      ],
      "text/plain": [
       "   Document_No  Dominant_Topic  Topic_Perc_Contrib  \\\n",
       "0            0           168.0              0.0207   \n",
       "1            1             7.0              0.0149   \n",
       "2            2           139.0              0.0330   \n",
       "3            3            57.0              0.0187   \n",
       "4            4           112.0              0.0177   \n",
       "5            5           179.0              0.0438   \n",
       "6            6             1.0              0.0551   \n",
       "7            7             0.0              0.0141   \n",
       "8            8            38.0              0.0149   \n",
       "9            9            71.0              0.0382   \n",
       "\n",
       "                                            Keywords  \\\n",
       "0  amazing, helpful, mother, sweet, reply, told, ...   \n",
       "1  giving, team, policy, glitch, completely, love...   \n",
       "2  airline, american, favorite, offering, extra, ...   \n",
       "3  attendant, flyer, nice, frequent, program, lie...   \n",
       "4  flight, playing, helpful, earlier, stop, guy, ...   \n",
       "5  wifi, flew, flight, inflight, working, connect...   \n",
       "6  club, admiral, worried, back, terminal, online...   \n",
       "7  cancel, miami, counter, member, hour, expect, ...   \n",
       "8  extra, hold, specific, home, handled, drink, r...   \n",
       "9  told, passenger, additional, reschedule, limit...   \n",
       "\n",
       "                                                Text  \n",
       "0  @AmericanAir Erica on the lax team is amazing ...  \n",
       "1  @AmericanAir Could you have someone on your la...  \n",
       "2  Ben Tennyson and an American Airlines pilot. 🎃...  \n",
       "3  @AmericanAir Right, but I earned those. I also...  \n",
       "4  Thank you, @AmericanAir for playing #ThisIsUs ...  \n",
       "5  @AmericanAir's wifi makes Amtrak's wifi look p...  \n",
       "6  Wonderful club! @americanair (@ American Airli...  \n",
       "7  @AmericanAir already did...changed browsers, d...  \n",
       "8  @AmericanAir ........still....on....hold.....t...  \n",
       "9  @AmericanAir well now i am told the ticket cos...  "
      ]
     },
     "execution_count": 24,
     "metadata": {},
     "output_type": "execute_result"
    }
   ],
   "source": [
    "def format_topics_sentences(ldamodel=ldamallet, corpus=corpus, texts=text_data):\n",
    "    # Init output\n",
    "    sent_topics_df = pd.DataFrame()\n",
    "\n",
    "    # Get main topic in each document\n",
    "    for i, row in enumerate(ldamodel[corpus]):\n",
    "        row = sorted(row, key=lambda x: (x[1]), reverse=True)\n",
    "        # Get the Dominant topic, Perc Contribution and Keywords for each document\n",
    "        for j, (topic_num, prop_topic) in enumerate(row):\n",
    "            if j == 0:  # => dominant topic\n",
    "                wp = ldamodel.show_topic(topic_num)\n",
    "                topic_keywords = \", \".join([word for word, prop in wp])\n",
    "                sent_topics_df = sent_topics_df.append(pd.Series([int(topic_num), round(prop_topic,4), topic_keywords]), ignore_index=True)\n",
    "            else:\n",
    "                break\n",
    "    sent_topics_df.columns = ['Dominant_Topic', 'Perc_Contribution', 'Topic_Keywords']\n",
    "\n",
    "    # Add original text to the end of the output\n",
    "    contents = pd.Series(texts)\n",
    "    sent_topics_df = pd.concat([sent_topics_df, contents], axis=1)\n",
    "    return(sent_topics_df)\n",
    "\n",
    "\n",
    "df_topic_sents_keywords = format_topics_sentences(ldamodel=optimal_model, corpus=corpus, texts=df.question.values.tolist())\n",
    "\n",
    "# Format\n",
    "df_dominant_topic = df_topic_sents_keywords.reset_index()\n",
    "df_dominant_topic.columns = ['Document_No', 'Dominant_Topic', 'Topic_Perc_Contrib', 'Keywords', 'Text']\n",
    "\n",
    "# Show\n",
    "df_dominant_topic.head(10)"
   ]
  },
  {
   "cell_type": "markdown",
   "metadata": {},
   "source": [
    "# Process"
   ]
  },
  {
   "cell_type": "markdown",
   "metadata": {},
   "source": [
    "- Input de l'utilisateur et son topic (A faire)"
   ]
  },
  {
   "cell_type": "code",
   "execution_count": 40,
   "metadata": {},
   "outputs": [
    {
     "data": {
      "text/html": [
       "<div>\n",
       "<style scoped>\n",
       "    .dataframe tbody tr th:only-of-type {\n",
       "        vertical-align: middle;\n",
       "    }\n",
       "\n",
       "    .dataframe tbody tr th {\n",
       "        vertical-align: top;\n",
       "    }\n",
       "\n",
       "    .dataframe thead th {\n",
       "        text-align: right;\n",
       "    }\n",
       "</style>\n",
       "<table border=\"1\" class=\"dataframe\">\n",
       "  <thead>\n",
       "    <tr style=\"text-align: right;\">\n",
       "      <th></th>\n",
       "      <th>Document_No</th>\n",
       "      <th>Dominant_Topic</th>\n",
       "      <th>Topic_Perc_Contrib</th>\n",
       "      <th>Keywords</th>\n",
       "      <th>Text</th>\n",
       "    </tr>\n",
       "  </thead>\n",
       "  <tbody>\n",
       "    <tr>\n",
       "      <th>0</th>\n",
       "      <td>0</td>\n",
       "      <td>168.0</td>\n",
       "      <td>0.0207</td>\n",
       "      <td>amazing, helpful, mother, sweet, reply, told, ...</td>\n",
       "      <td>@AmericanAir Erica on the lax team is amazing ...</td>\n",
       "    </tr>\n",
       "  </tbody>\n",
       "</table>\n",
       "</div>"
      ],
      "text/plain": [
       "   Document_No  Dominant_Topic  Topic_Perc_Contrib  \\\n",
       "0            0           168.0              0.0207   \n",
       "\n",
       "                                            Keywords  \\\n",
       "0  amazing, helpful, mother, sweet, reply, told, ...   \n",
       "\n",
       "                                                Text  \n",
       "0  @AmericanAir Erica on the lax team is amazing ...  "
      ]
     },
     "execution_count": 40,
     "metadata": {},
     "output_type": "execute_result"
    }
   ],
   "source": [
    "userinput=preprocess(\"@AmericanAir Erica on the lax team is amazing give her a raise ty\")\n",
    "dictionaryInput = corpora.Dictionary([userinput])\n",
    "corpusInput = [dictionary.doc2bow(userinput)]\n",
    "\n",
    "df_topic_test = format_topics_sentences(ldamodel=optimal_model, corpus=corpusInput, texts=\"@AmericanAir Erica on the lax team is amazing give her a raise ty\")\n",
    "\n",
    "# Format\n",
    "df_dominant_topic_test = df_topic_test.reset_index()\n",
    "df_dominant_topic_test.columns = ['Document_No', 'Dominant_Topic', 'Topic_Perc_Contrib', 'Keywords', 'Text']\n",
    "\n",
    "# Show\n",
    "df_dominant_topic_test.head()\n"
   ]
  },
  {
   "cell_type": "markdown",
   "metadata": {},
   "source": [
    "- Ajout de la colonne 'responce' dans le dataframe réalisé precedemment contenant les questions et leur topic"
   ]
  },
  {
   "cell_type": "code",
   "execution_count": 42,
   "metadata": {},
   "outputs": [
    {
     "data": {
      "text/html": [
       "<div>\n",
       "<style scoped>\n",
       "    .dataframe tbody tr th:only-of-type {\n",
       "        vertical-align: middle;\n",
       "    }\n",
       "\n",
       "    .dataframe tbody tr th {\n",
       "        vertical-align: top;\n",
       "    }\n",
       "\n",
       "    .dataframe thead th {\n",
       "        text-align: right;\n",
       "    }\n",
       "</style>\n",
       "<table border=\"1\" class=\"dataframe\">\n",
       "  <thead>\n",
       "    <tr style=\"text-align: right;\">\n",
       "      <th></th>\n",
       "      <th>Unnamed: 0</th>\n",
       "      <th>responce</th>\n",
       "      <th>question</th>\n",
       "      <th>Document_No</th>\n",
       "      <th>Dominant_Topic</th>\n",
       "      <th>Topic_Perc_Contrib</th>\n",
       "      <th>Keywords</th>\n",
       "      <th>Text</th>\n",
       "    </tr>\n",
       "  </thead>\n",
       "  <tbody>\n",
       "    <tr>\n",
       "      <th>0</th>\n",
       "      <td>603</td>\n",
       "      <td>@115904 We'll be sure to pass along your kind ...</td>\n",
       "      <td>@AmericanAir Erica on the lax team is amazing ...</td>\n",
       "      <td>0</td>\n",
       "      <td>168.0</td>\n",
       "      <td>0.0207</td>\n",
       "      <td>amazing, helpful, mother, sweet, reply, told, ...</td>\n",
       "      <td>@AmericanAir Erica on the lax team is amazing ...</td>\n",
       "    </tr>\n",
       "    <tr>\n",
       "      <th>1</th>\n",
       "      <td>605</td>\n",
       "      <td>@115904 Our apologies for the delay in respond...</td>\n",
       "      <td>@AmericanAir Could you have someone on your la...</td>\n",
       "      <td>1</td>\n",
       "      <td>7.0</td>\n",
       "      <td>0.0149</td>\n",
       "      <td>giving, team, policy, glitch, completely, love...</td>\n",
       "      <td>@AmericanAir Could you have someone on your la...</td>\n",
       "    </tr>\n",
       "    <tr>\n",
       "      <th>2</th>\n",
       "      <td>608</td>\n",
       "      <td>@115905 Aww, that's definitely a future pilot ...</td>\n",
       "      <td>Ben Tennyson and an American Airlines pilot. 🎃...</td>\n",
       "      <td>2</td>\n",
       "      <td>139.0</td>\n",
       "      <td>0.0330</td>\n",
       "      <td>airline, american, favorite, offering, extra, ...</td>\n",
       "      <td>Ben Tennyson and an American Airlines pilot. 🎃...</td>\n",
       "    </tr>\n",
       "    <tr>\n",
       "      <th>3</th>\n",
       "      <td>612</td>\n",
       "      <td>@115906 We're sorry for your frustration.</td>\n",
       "      <td>@AmericanAir Right, but I earned those. I also...</td>\n",
       "      <td>3</td>\n",
       "      <td>57.0</td>\n",
       "      <td>0.0187</td>\n",
       "      <td>attendant, flyer, nice, frequent, program, lie...</td>\n",
       "      <td>@AmericanAir Right, but I earned those. I also...</td>\n",
       "    </tr>\n",
       "    <tr>\n",
       "      <th>4</th>\n",
       "      <td>618</td>\n",
       "      <td>@115909 We're glad you got to kick back and en...</td>\n",
       "      <td>Thank you, @AmericanAir for playing #ThisIsUs ...</td>\n",
       "      <td>4</td>\n",
       "      <td>112.0</td>\n",
       "      <td>0.0177</td>\n",
       "      <td>flight, playing, helpful, earlier, stop, guy, ...</td>\n",
       "      <td>Thank you, @AmericanAir for playing #ThisIsUs ...</td>\n",
       "    </tr>\n",
       "  </tbody>\n",
       "</table>\n",
       "</div>"
      ],
      "text/plain": [
       "   Unnamed: 0                                           responce  \\\n",
       "0         603  @115904 We'll be sure to pass along your kind ...   \n",
       "1         605  @115904 Our apologies for the delay in respond...   \n",
       "2         608  @115905 Aww, that's definitely a future pilot ...   \n",
       "3         612          @115906 We're sorry for your frustration.   \n",
       "4         618  @115909 We're glad you got to kick back and en...   \n",
       "\n",
       "                                            question  Document_No  \\\n",
       "0  @AmericanAir Erica on the lax team is amazing ...            0   \n",
       "1  @AmericanAir Could you have someone on your la...            1   \n",
       "2  Ben Tennyson and an American Airlines pilot. 🎃...            2   \n",
       "3  @AmericanAir Right, but I earned those. I also...            3   \n",
       "4  Thank you, @AmericanAir for playing #ThisIsUs ...            4   \n",
       "\n",
       "   Dominant_Topic  Topic_Perc_Contrib  \\\n",
       "0           168.0              0.0207   \n",
       "1             7.0              0.0149   \n",
       "2           139.0              0.0330   \n",
       "3            57.0              0.0187   \n",
       "4           112.0              0.0177   \n",
       "\n",
       "                                            Keywords  \\\n",
       "0  amazing, helpful, mother, sweet, reply, told, ...   \n",
       "1  giving, team, policy, glitch, completely, love...   \n",
       "2  airline, american, favorite, offering, extra, ...   \n",
       "3  attendant, flyer, nice, frequent, program, lie...   \n",
       "4  flight, playing, helpful, earlier, stop, guy, ...   \n",
       "\n",
       "                                                Text  \n",
       "0  @AmericanAir Erica on the lax team is amazing ...  \n",
       "1  @AmericanAir Could you have someone on your la...  \n",
       "2  Ben Tennyson and an American Airlines pilot. 🎃...  \n",
       "3  @AmericanAir Right, but I earned those. I also...  \n",
       "4  Thank you, @AmericanAir for playing #ThisIsUs ...  "
      ]
     },
     "execution_count": 42,
     "metadata": {},
     "output_type": "execute_result"
    }
   ],
   "source": [
    "complete_df= df.join(df_dominant_topic, lsuffix='_database', rsuffix='_input')\n",
    "complete_df.head()"
   ]
  },
  {
   "cell_type": "markdown",
   "metadata": {},
   "source": [
    "- Filtrage du dataframe selon un topic"
   ]
  },
  {
   "cell_type": "code",
   "execution_count": 48,
   "metadata": {},
   "outputs": [
    {
     "data": {
      "text/html": [
       "<div>\n",
       "<style scoped>\n",
       "    .dataframe tbody tr th:only-of-type {\n",
       "        vertical-align: middle;\n",
       "    }\n",
       "\n",
       "    .dataframe tbody tr th {\n",
       "        vertical-align: top;\n",
       "    }\n",
       "\n",
       "    .dataframe thead th {\n",
       "        text-align: right;\n",
       "    }\n",
       "</style>\n",
       "<table border=\"1\" class=\"dataframe\">\n",
       "  <thead>\n",
       "    <tr style=\"text-align: right;\">\n",
       "      <th></th>\n",
       "      <th>Unnamed: 0</th>\n",
       "      <th>responce</th>\n",
       "      <th>question</th>\n",
       "      <th>Document_No</th>\n",
       "      <th>Dominant_Topic</th>\n",
       "      <th>Topic_Perc_Contrib</th>\n",
       "      <th>Keywords</th>\n",
       "      <th>Text</th>\n",
       "    </tr>\n",
       "  </thead>\n",
       "  <tbody>\n",
       "    <tr>\n",
       "      <th>0</th>\n",
       "      <td>603</td>\n",
       "      <td>@115904 We'll be sure to pass along your kind ...</td>\n",
       "      <td>@AmericanAir Erica on the lax team is amazing ...</td>\n",
       "      <td>0</td>\n",
       "      <td>168.0</td>\n",
       "      <td>0.0207</td>\n",
       "      <td>amazing, helpful, mother, sweet, reply, told, ...</td>\n",
       "      <td>@AmericanAir Erica on the lax team is amazing ...</td>\n",
       "    </tr>\n",
       "    <tr>\n",
       "      <th>240</th>\n",
       "      <td>29889</td>\n",
       "      <td>@124348 We sure will!</td>\n",
       "      <td>@AmericanAir Please recognize her. She is amaz...</td>\n",
       "      <td>240</td>\n",
       "      <td>168.0</td>\n",
       "      <td>0.0176</td>\n",
       "      <td>amazing, helpful, mother, sweet, reply, told, ...</td>\n",
       "      <td>@AmericanAir Please recognize her. She is amaz...</td>\n",
       "    </tr>\n",
       "    <tr>\n",
       "      <th>611</th>\n",
       "      <td>76131</td>\n",
       "      <td>@137430 We think so too!</td>\n",
       "      <td>@AmericanAir She is AMAZING!</td>\n",
       "      <td>611</td>\n",
       "      <td>168.0</td>\n",
       "      <td>0.0202</td>\n",
       "      <td>amazing, helpful, mother, sweet, reply, told, ...</td>\n",
       "      <td>@AmericanAir She is AMAZING!</td>\n",
       "    </tr>\n",
       "    <tr>\n",
       "      <th>712</th>\n",
       "      <td>85174</td>\n",
       "      <td>@140099 It makes us so happy that you're recog...</td>\n",
       "      <td>@AmericanAir Great job at the MIA to CHS on fl...</td>\n",
       "      <td>712</td>\n",
       "      <td>168.0</td>\n",
       "      <td>0.0217</td>\n",
       "      <td>amazing, helpful, mother, sweet, reply, told, ...</td>\n",
       "      <td>@AmericanAir Great job at the MIA to CHS on fl...</td>\n",
       "    </tr>\n",
       "    <tr>\n",
       "      <th>838</th>\n",
       "      <td>100753</td>\n",
       "      <td>@135984 That is AAwesome. Have a great night.</td>\n",
       "      <td>@AmericanAir I sure did 😃 it was absolutely am...</td>\n",
       "      <td>838</td>\n",
       "      <td>168.0</td>\n",
       "      <td>0.0352</td>\n",
       "      <td>amazing, helpful, mother, sweet, reply, told, ...</td>\n",
       "      <td>@AmericanAir I sure did 😃 it was absolutely am...</td>\n",
       "    </tr>\n",
       "  </tbody>\n",
       "</table>\n",
       "</div>"
      ],
      "text/plain": [
       "     Unnamed: 0                                           responce  \\\n",
       "0           603  @115904 We'll be sure to pass along your kind ...   \n",
       "240       29889                              @124348 We sure will!   \n",
       "611       76131                           @137430 We think so too!   \n",
       "712       85174  @140099 It makes us so happy that you're recog...   \n",
       "838      100753      @135984 That is AAwesome. Have a great night.   \n",
       "\n",
       "                                              question  Document_No  \\\n",
       "0    @AmericanAir Erica on the lax team is amazing ...            0   \n",
       "240  @AmericanAir Please recognize her. She is amaz...          240   \n",
       "611                       @AmericanAir She is AMAZING!          611   \n",
       "712  @AmericanAir Great job at the MIA to CHS on fl...          712   \n",
       "838  @AmericanAir I sure did 😃 it was absolutely am...          838   \n",
       "\n",
       "     Dominant_Topic  Topic_Perc_Contrib  \\\n",
       "0             168.0              0.0207   \n",
       "240           168.0              0.0176   \n",
       "611           168.0              0.0202   \n",
       "712           168.0              0.0217   \n",
       "838           168.0              0.0352   \n",
       "\n",
       "                                              Keywords  \\\n",
       "0    amazing, helpful, mother, sweet, reply, told, ...   \n",
       "240  amazing, helpful, mother, sweet, reply, told, ...   \n",
       "611  amazing, helpful, mother, sweet, reply, told, ...   \n",
       "712  amazing, helpful, mother, sweet, reply, told, ...   \n",
       "838  amazing, helpful, mother, sweet, reply, told, ...   \n",
       "\n",
       "                                                  Text  \n",
       "0    @AmericanAir Erica on the lax team is amazing ...  \n",
       "240  @AmericanAir Please recognize her. She is amaz...  \n",
       "611                       @AmericanAir She is AMAZING!  \n",
       "712  @AmericanAir Great job at the MIA to CHS on fl...  \n",
       "838  @AmericanAir I sure did 😃 it was absolutely am...  "
      ]
     },
     "execution_count": 48,
     "metadata": {},
     "output_type": "execute_result"
    }
   ],
   "source": [
    "oui = complete_df[complete_df['Dominant_Topic']==168.0]\n",
    "oui.head()"
   ]
  }
 ],
 "metadata": {
  "kernelspec": {
   "display_name": "Python 3.8.8 ('base')",
   "language": "python",
   "name": "python3"
  },
  "language_info": {
   "codemirror_mode": {
    "name": "ipython",
    "version": 3
   },
   "file_extension": ".py",
   "mimetype": "text/x-python",
   "name": "python",
   "nbconvert_exporter": "python",
   "pygments_lexer": "ipython3",
   "version": "3.8.8"
  },
  "orig_nbformat": 4,
  "vscode": {
   "interpreter": {
    "hash": "a67b01ff655fedeafbec0f5c154c73501f94f5bc6352173beba5e66e9a24b9e5"
   }
  }
 },
 "nbformat": 4,
 "nbformat_minor": 2
}
