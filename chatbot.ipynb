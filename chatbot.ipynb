{
  "cells": [
    {
      "cell_type": "code",
      "execution_count": 52,
      "metadata": {
        "colab": {
          "base_uri": "https://localhost:8080/"
        },
        "id": "xcjYQC301n8E",
        "outputId": "a5e058cc-dc65-4287-8168-cbcc276f85a2"
      },
      "outputs": [],
      "source": [
        "import bs4 as bs\n",
        "import urllib.request\n",
        "import pandas as pd\n",
        "\n",
        "tweet_data = pd.read_csv(\"question_responce.csv\")"
      ]
    },
    {
      "cell_type": "code",
      "execution_count": 58,
      "metadata": {
        "colab": {
          "base_uri": "https://localhost:8080/",
          "height": 206
        },
        "id": "Z8RyD-zY5MB9",
        "outputId": "09740f14-f45f-4c6b-d36e-7dd902ee6b0c"
      },
      "outputs": [
        {
          "data": {
            "text/plain": [
              "' Aww thats definitely a future pilot in the making HappyHalloween'"
            ]
          },
          "execution_count": 58,
          "metadata": {},
          "output_type": "execute_result"
        }
      ],
      "source": [
        "tweet_data.responce[2]"
      ]
    },
    {
      "cell_type": "code",
      "execution_count": 57,
      "metadata": {},
      "outputs": [],
      "source": [
        "tweet_data['question'] = tweet_data['question'].map(lambda x: re.sub(r\"(@[A-Za-z0-9]+)|([^0-9A-Za-z \\t])|(\\w+:\\/\\/\\S+)\", '',x))\n",
        "tweet_data['responce'] = tweet_data['responce'].map(lambda x: re.sub(r\"(@[A-Za-z0-9]+)|([^0-9A-Za-z \\t])|(\\w+:\\/\\/\\S+)\", '',x))"
      ]
    },
    {
      "cell_type": "code",
      "execution_count": 60,
      "metadata": {
        "colab": {
          "base_uri": "https://localhost:8080/"
        },
        "id": "9fFyW-JI1s4M",
        "outputId": "6a05bd3e-e871-4442-c556-7ebe51416290"
      },
      "outputs": [],
      "source": [
        "import nltk\n",
        "response_sentences = nltk.sent_tokenize(str(tweet_data.responce))"
      ]
    },
    {
      "cell_type": "code",
      "execution_count": 61,
      "metadata": {},
      "outputs": [
        {
          "name": "stdout",
          "output_type": "stream",
          "text": [
            "['0        Well be sure to pass along your kind words AA...\\n1        Our apologies for the delay in responding to ...\\n2        Aww thats definitely a future pilot in the ma...\\n3                         Were sorry for your frustration\\n4        Were glad you got to kick back and enjoy a sh...\\n                              ...                        \\n1847     We know staying connected is important why no...\\n1848     Weve capped our fares for nonstop flights at ...\\n1849     Please give our Baggage team a call at 800866...\\n1850     Our apologies for the hold Our Central Baggag...\\n1851     Were providing waivers for St Croix Gillian P...\\nName: responce, Length: 1852, dtype: object']\n"
          ]
        }
      ],
      "source": [
        "print(response_sentences)"
      ]
    },
    {
      "cell_type": "code",
      "execution_count": 64,
      "metadata": {
        "id": "DO7yD3w41wTc"
      },
      "outputs": [],
      "source": [
        "from sklearn.metrics.pairwise import cosine_similarity\n",
        "from sklearn.feature_extraction.text import TfidfVectorizer\n",
        "\n",
        "def chatbot_answer(user_query):\n",
        "    \n",
        "    #Append the query to the sentences list\n",
        "    response_sentences.append(user_query)\n",
        "    vectorizer = TfidfVectorizer()\n",
        "    sentences_vectors = vectorizer.fit_transform(response_sentences)\n",
        "    \n",
        "    #Measure the cosine similarity and take the second closest index because the first index is the user query\n",
        "    vector_values = cosine_similarity(sentences_vectors[-1], sentences_vectors)\n",
        "    answer = response_sentences[vector_values.argsort()[0][-2]]\n",
        "    #Final check to make sure there are result present. If all the result are 0, means the text input by us are not captured in the corpus\n",
        "    input_check = vector_values.flatten()\n",
        "    input_check.sort()\n",
        "    \n",
        "    if input_check[-2] == 0:\n",
        "        return \"Please Try again\"\n",
        "    else: \n",
        "        return answer"
      ]
    },
    {
      "cell_type": "code",
      "execution_count": 65,
      "metadata": {
        "colab": {
          "base_uri": "https://localhost:8080/",
          "height": 554
        },
        "id": "SeqvMuFB16rk",
        "outputId": "ea3cf894-e192-48f9-bbf8-862634bd51c8"
      },
      "outputs": [
        {
          "name": "stdout",
          "output_type": "stream",
          "text": [
            "Hello, I am the Airplane Chatbot. How can I help you ?\n",
            "Chatbot: answer 0        Well be sure to pass along your kind words AA...\n",
            "1        Our apologies for the delay in responding to ...\n",
            "2        Aww thats definitely a future pilot in the ma...\n",
            "3                         Were sorry for your frustration\n",
            "4        Were glad you got to kick back and enjoy a sh...\n",
            "                              ...                        \n",
            "1847     We know staying connected is important why no...\n",
            "1848     Weve capped our fares for nonstop flights at ...\n",
            "1849     Please give our Baggage team a call at 800866...\n",
            "1850     Our apologies for the hold Our Central Baggag...\n",
            "1851     Were providing waivers for St Croix Gillian P...\n",
            "Name: responce, Length: 1852, dtype: object\n",
            "input check [0. 1.]\n",
            "query hello\n",
            "responces sentences ['0        Well be sure to pass along your kind words AA...\\n1        Our apologies for the delay in responding to ...\\n2        Aww thats definitely a future pilot in the ma...\\n3                         Were sorry for your frustration\\n4        Were glad you got to kick back and enjoy a sh...\\n                              ...                        \\n1847     We know staying connected is important why no...\\n1848     Weve capped our fares for nonstop flights at ...\\n1849     Please give our Baggage team a call at 800866...\\n1850     Our apologies for the hold Our Central Baggag...\\n1851     Were providing waivers for St Croix Gillian P...\\nName: responce, Length: 1852, dtype: object', 'hello']\n",
            "Chatbot: answer 0        Well be sure to pass along your kind words AA...\n",
            "1        Our apologies for the delay in responding to ...\n",
            "2        Aww thats definitely a future pilot in the ma...\n",
            "3                         Were sorry for your frustration\n",
            "4        Were glad you got to kick back and enjoy a sh...\n",
            "                              ...                        \n",
            "1847     We know staying connected is important why no...\n",
            "1848     Weve capped our fares for nonstop flights at ...\n",
            "1849     Please give our Baggage team a call at 800866...\n",
            "1850     Our apologies for the hold Our Central Baggag...\n",
            "1851     Were providing waivers for St Croix Gillian P...\n",
            "Name: responce, Length: 1852, dtype: object\n",
            "input check [0.02161091 1.        ]\n",
            "query my plane is delayed\n",
            "responces sentences ['0        Well be sure to pass along your kind words AA...\\n1        Our apologies for the delay in responding to ...\\n2        Aww thats definitely a future pilot in the ma...\\n3                         Were sorry for your frustration\\n4        Were glad you got to kick back and enjoy a sh...\\n                              ...                        \\n1847     We know staying connected is important why no...\\n1848     Weve capped our fares for nonstop flights at ...\\n1849     Please give our Baggage team a call at 800866...\\n1850     Our apologies for the hold Our Central Baggag...\\n1851     Were providing waivers for St Croix Gillian P...\\nName: responce, Length: 1852, dtype: object', 'my plane is delayed']\n",
            "Chatbot: answer 0        Well be sure to pass along your kind words AA...\n",
            "1        Our apologies for the delay in responding to ...\n",
            "2        Aww thats definitely a future pilot in the ma...\n",
            "3                         Were sorry for your frustration\n",
            "4        Were glad you got to kick back and enjoy a sh...\n",
            "                              ...                        \n",
            "1847     We know staying connected is important why no...\n",
            "1848     Weve capped our fares for nonstop flights at ...\n",
            "1849     Please give our Baggage team a call at 800866...\n",
            "1850     Our apologies for the hold Our Central Baggag...\n",
            "1851     Were providing waivers for St Croix Gillian P...\n",
            "Name: responce, Length: 1852, dtype: object\n",
            "input check [0. 1.]\n",
            "query help me\n",
            "responces sentences ['0        Well be sure to pass along your kind words AA...\\n1        Our apologies for the delay in responding to ...\\n2        Aww thats definitely a future pilot in the ma...\\n3                         Were sorry for your frustration\\n4        Were glad you got to kick back and enjoy a sh...\\n                              ...                        \\n1847     We know staying connected is important why no...\\n1848     Weve capped our fares for nonstop flights at ...\\n1849     Please give our Baggage team a call at 800866...\\n1850     Our apologies for the hold Our Central Baggag...\\n1851     Were providing waivers for St Croix Gillian P...\\nName: responce, Length: 1852, dtype: object', 'help me']\n",
            "Chatbot: answer 0        Well be sure to pass along your kind words AA...\n",
            "1        Our apologies for the delay in responding to ...\n",
            "2        Aww thats definitely a future pilot in the ma...\n",
            "3                         Were sorry for your frustration\n",
            "4        Were glad you got to kick back and enjoy a sh...\n",
            "                              ...                        \n",
            "1847     We know staying connected is important why no...\n",
            "1848     Weve capped our fares for nonstop flights at ...\n",
            "1849     Please give our Baggage team a call at 800866...\n",
            "1850     Our apologies for the hold Our Central Baggag...\n",
            "1851     Were providing waivers for St Croix Gillian P...\n",
            "Name: responce, Length: 1852, dtype: object\n",
            "input check [0.02556127 1.        ]\n",
            "query i lose my baggage\n",
            "responces sentences ['0        Well be sure to pass along your kind words AA...\\n1        Our apologies for the delay in responding to ...\\n2        Aww thats definitely a future pilot in the ma...\\n3                         Were sorry for your frustration\\n4        Were glad you got to kick back and enjoy a sh...\\n                              ...                        \\n1847     We know staying connected is important why no...\\n1848     Weve capped our fares for nonstop flights at ...\\n1849     Please give our Baggage team a call at 800866...\\n1850     Our apologies for the hold Our Central Baggag...\\n1851     Were providing waivers for St Croix Gillian P...\\nName: responce, Length: 1852, dtype: object', 'i lose my baggage']\n",
            "Chatbot: answer 0        Well be sure to pass along your kind words AA...\n",
            "1        Our apologies for the delay in responding to ...\n",
            "2        Aww thats definitely a future pilot in the ma...\n",
            "3                         Were sorry for your frustration\n",
            "4        Were glad you got to kick back and enjoy a sh...\n",
            "                              ...                        \n",
            "1847     We know staying connected is important why no...\n",
            "1848     Weve capped our fares for nonstop flights at ...\n",
            "1849     Please give our Baggage team a call at 800866...\n",
            "1850     Our apologies for the hold Our Central Baggag...\n",
            "1851     Were providing waivers for St Croix Gillian P...\n",
            "Name: responce, Length: 1852, dtype: object\n",
            "input check [0. 1.]\n",
            "query i am mad\n",
            "responces sentences ['0        Well be sure to pass along your kind words AA...\\n1        Our apologies for the delay in responding to ...\\n2        Aww thats definitely a future pilot in the ma...\\n3                         Were sorry for your frustration\\n4        Were glad you got to kick back and enjoy a sh...\\n                              ...                        \\n1847     We know staying connected is important why no...\\n1848     Weve capped our fares for nonstop flights at ...\\n1849     Please give our Baggage team a call at 800866...\\n1850     Our apologies for the hold Our Central Baggag...\\n1851     Were providing waivers for St Croix Gillian P...\\nName: responce, Length: 1852, dtype: object', 'i am mad']\n",
            "See You Again\n"
          ]
        }
      ],
      "source": [
        "print(\"Hello, I am the Airplane Chatbot. How can I help you ?\")\n",
        "while(True):\n",
        "    query = input().lower()\n",
        "    if query not in ['bye', 'good bye', 'take care']:\n",
        "        print(\"Chatbot: \", end=\"\")\n",
        "        oui = chatbot_answer(query)\n",
        "        response_sentences.remove(query)\n",
        "    else:\n",
        "        print(\"See You Again\")\n",
        "        break\n",
        "\n",
        "with open(\"Output.txt\", \"w\") as text_file:\n",
        "    text_file.write(oui)\n"
      ]
    },
    {
      "cell_type": "code",
      "execution_count": null,
      "metadata": {},
      "outputs": [],
      "source": []
    }
  ],
  "metadata": {
    "colab": {
      "collapsed_sections": [],
      "name": "chatbot.ipynb",
      "provenance": []
    },
    "kernelspec": {
      "display_name": "Python 3.8.12 ('cloudEnv')",
      "language": "python",
      "name": "python3"
    },
    "language_info": {
      "codemirror_mode": {
        "name": "ipython",
        "version": 3
      },
      "file_extension": ".py",
      "mimetype": "text/x-python",
      "name": "python",
      "nbconvert_exporter": "python",
      "pygments_lexer": "ipython3",
      "version": "3.8.12"
    },
    "vscode": {
      "interpreter": {
        "hash": "01244e9f708f4d2eb5343762b007acc273faa96b0b0f955667ad4252aff017a8"
      }
    }
  },
  "nbformat": 4,
  "nbformat_minor": 0
}
